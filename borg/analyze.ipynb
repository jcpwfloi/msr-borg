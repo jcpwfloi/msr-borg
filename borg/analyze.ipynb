{
 "cells": [
  {
   "cell_type": "code",
   "execution_count": 1,
   "metadata": {},
   "outputs": [],
   "source": [
    "import pandas as pd\n",
    "\n",
    "df = pd.read_csv(\"popular.csv\")"
   ]
  },
  {
   "cell_type": "code",
   "execution_count": 6,
   "metadata": {},
   "outputs": [
    {
     "data": {
      "text/plain": [
       "2542"
      ]
     },
     "execution_count": 6,
     "metadata": {},
     "output_type": "execute_result"
    }
   ],
   "source": [
    "len(df[df[\"job_size\"] > 2e5])"
   ]
  },
  {
   "cell_type": "code",
   "execution_count": 2,
   "metadata": {},
   "outputs": [
    {
     "data": {
      "text/html": [
       "<div>\n",
       "<style scoped>\n",
       "    .dataframe tbody tr th:only-of-type {\n",
       "        vertical-align: middle;\n",
       "    }\n",
       "\n",
       "    .dataframe tbody tr th {\n",
       "        vertical-align: top;\n",
       "    }\n",
       "\n",
       "    .dataframe thead th {\n",
       "        text-align: right;\n",
       "    }\n",
       "</style>\n",
       "<table border=\"1\" class=\"dataframe\">\n",
       "  <thead>\n",
       "    <tr style=\"text-align: right;\">\n",
       "      <th></th>\n",
       "      <th>arrival_time</th>\n",
       "      <th>job_size</th>\n",
       "      <th>ceiledcpu</th>\n",
       "      <th>ceiledmemory</th>\n",
       "    </tr>\n",
       "  </thead>\n",
       "  <tbody>\n",
       "    <tr>\n",
       "      <th>count</th>\n",
       "      <td>6.890942e+07</td>\n",
       "      <td>6.890942e+07</td>\n",
       "      <td>6.890942e+07</td>\n",
       "      <td>6.890942e+07</td>\n",
       "    </tr>\n",
       "    <tr>\n",
       "      <th>mean</th>\n",
       "      <td>1.267765e+06</td>\n",
       "      <td>3.105614e+02</td>\n",
       "      <td>4.215497e-03</td>\n",
       "      <td>5.055868e-03</td>\n",
       "    </tr>\n",
       "    <tr>\n",
       "      <th>std</th>\n",
       "      <td>7.840097e+05</td>\n",
       "      <td>8.105388e+03</td>\n",
       "      <td>3.585523e-03</td>\n",
       "      <td>2.513254e-03</td>\n",
       "    </tr>\n",
       "    <tr>\n",
       "      <th>min</th>\n",
       "      <td>6.001701e+02</td>\n",
       "      <td>1.000000e-06</td>\n",
       "      <td>1.000000e-03</td>\n",
       "      <td>2.000000e-03</td>\n",
       "    </tr>\n",
       "    <tr>\n",
       "      <th>25%</th>\n",
       "      <td>5.779063e+05</td>\n",
       "      <td>4.955446e+01</td>\n",
       "      <td>2.000000e-03</td>\n",
       "      <td>2.000000e-03</td>\n",
       "    </tr>\n",
       "    <tr>\n",
       "      <th>50%</th>\n",
       "      <td>1.255278e+06</td>\n",
       "      <td>8.027975e+01</td>\n",
       "      <td>3.000000e-03</td>\n",
       "      <td>6.000000e-03</td>\n",
       "    </tr>\n",
       "    <tr>\n",
       "      <th>75%</th>\n",
       "      <td>1.937091e+06</td>\n",
       "      <td>1.692569e+02</td>\n",
       "      <td>7.000000e-03</td>\n",
       "      <td>6.000000e-03</td>\n",
       "    </tr>\n",
       "    <tr>\n",
       "      <th>max</th>\n",
       "      <td>2.678906e+06</td>\n",
       "      <td>2.678140e+06</td>\n",
       "      <td>1.600000e-02</td>\n",
       "      <td>1.200000e-02</td>\n",
       "    </tr>\n",
       "  </tbody>\n",
       "</table>\n",
       "</div>"
      ],
      "text/plain": [
       "       arrival_time      job_size     ceiledcpu  ceiledmemory\n",
       "count  6.890942e+07  6.890942e+07  6.890942e+07  6.890942e+07\n",
       "mean   1.267765e+06  3.105614e+02  4.215497e-03  5.055868e-03\n",
       "std    7.840097e+05  8.105388e+03  3.585523e-03  2.513254e-03\n",
       "min    6.001701e+02  1.000000e-06  1.000000e-03  2.000000e-03\n",
       "25%    5.779063e+05  4.955446e+01  2.000000e-03  2.000000e-03\n",
       "50%    1.255278e+06  8.027975e+01  3.000000e-03  6.000000e-03\n",
       "75%    1.937091e+06  1.692569e+02  7.000000e-03  6.000000e-03\n",
       "max    2.678906e+06  2.678140e+06  1.600000e-02  1.200000e-02"
      ]
     },
     "execution_count": 2,
     "metadata": {},
     "output_type": "execute_result"
    }
   ],
   "source": [
    "df.describe()"
   ]
  },
  {
   "cell_type": "code",
   "execution_count": 12,
   "metadata": {},
   "outputs": [],
   "source": [
    "import numpy as np\n",
    "\n",
    "stats = df.groupby([\"ceiledcpu\", \"ceiledmemory\"]).size()\n",
    "stats = pd.concat([stats, df.groupby([\"ceiledcpu\", \"ceiledmemory\"]).mean()[\"job_size\"]], axis=1)\n",
    "# stats[\"lambda\"] = stats[\"count\"] / df[\"arrival_time\"].max()"
   ]
  },
  {
   "cell_type": "code",
   "execution_count": 13,
   "metadata": {},
   "outputs": [
    {
     "data": {
      "text/plain": [
       "ceiledcpu  ceiledmemory\n",
       "0.001      0.006             79.133682\n",
       "0.002      0.002            247.765460\n",
       "           0.003            547.745443\n",
       "           0.006            113.980439\n",
       "0.003      0.002            539.416729\n",
       "           0.006            272.089997\n",
       "0.004      0.006            403.951718\n",
       "0.005      0.006            411.556814\n",
       "0.007      0.006            116.915775\n",
       "0.016      0.012           1248.086930\n",
       "Name: job_size, dtype: float64"
      ]
     },
     "execution_count": 13,
     "metadata": {},
     "output_type": "execute_result"
    }
   ],
   "source": [
    "df.groupby([\"ceiledcpu\", \"ceiledmemory\"]).mean()[\"job_size\"]"
   ]
  },
  {
   "cell_type": "code",
   "execution_count": 16,
   "metadata": {},
   "outputs": [
    {
     "data": {
      "text/plain": [
       "ceiledcpu  ceiledmemory\n",
       "0.001      0.006            3909590\n",
       "0.002      0.002           15843234\n",
       "           0.003            4564673\n",
       "           0.006            8924386\n",
       "0.003      0.002            3251734\n",
       "           0.006            6231739\n",
       "0.004      0.006            4669357\n",
       "0.005      0.006            3669487\n",
       "0.007      0.006           13676162\n",
       "0.016      0.012            4169055\n",
       "dtype: int64"
      ]
     },
     "execution_count": 16,
     "metadata": {},
     "output_type": "execute_result"
    }
   ],
   "source": [
    "stats"
   ]
  },
  {
   "cell_type": "code",
   "execution_count": null,
   "metadata": {},
   "outputs": [
    {
     "data": {
      "text/html": [
       "<div>\n",
       "<style scoped>\n",
       "    .dataframe tbody tr th:only-of-type {\n",
       "        vertical-align: middle;\n",
       "    }\n",
       "\n",
       "    .dataframe tbody tr th {\n",
       "        vertical-align: top;\n",
       "    }\n",
       "\n",
       "    .dataframe thead th {\n",
       "        text-align: right;\n",
       "    }\n",
       "</style>\n",
       "<table border=\"1\" class=\"dataframe\">\n",
       "  <thead>\n",
       "    <tr style=\"text-align: right;\">\n",
       "      <th></th>\n",
       "      <th></th>\n",
       "      <th>0</th>\n",
       "      <th>job_size</th>\n",
       "    </tr>\n",
       "    <tr>\n",
       "      <th>ceiledcpu</th>\n",
       "      <th>ceiledmemory</th>\n",
       "      <th></th>\n",
       "      <th></th>\n",
       "    </tr>\n",
       "  </thead>\n",
       "  <tbody>\n",
       "    <tr>\n",
       "      <th>0.001</th>\n",
       "      <th>0.006</th>\n",
       "      <td>3909590</td>\n",
       "      <td>79.133682</td>\n",
       "    </tr>\n",
       "    <tr>\n",
       "      <th rowspan=\"3\" valign=\"top\">0.002</th>\n",
       "      <th>0.002</th>\n",
       "      <td>15843234</td>\n",
       "      <td>247.765460</td>\n",
       "    </tr>\n",
       "    <tr>\n",
       "      <th>0.003</th>\n",
       "      <td>4564673</td>\n",
       "      <td>547.745443</td>\n",
       "    </tr>\n",
       "    <tr>\n",
       "      <th>0.006</th>\n",
       "      <td>8924386</td>\n",
       "      <td>113.980439</td>\n",
       "    </tr>\n",
       "    <tr>\n",
       "      <th rowspan=\"2\" valign=\"top\">0.003</th>\n",
       "      <th>0.002</th>\n",
       "      <td>3251734</td>\n",
       "      <td>539.416729</td>\n",
       "    </tr>\n",
       "    <tr>\n",
       "      <th>0.006</th>\n",
       "      <td>6231739</td>\n",
       "      <td>272.089997</td>\n",
       "    </tr>\n",
       "    <tr>\n",
       "      <th>0.004</th>\n",
       "      <th>0.006</th>\n",
       "      <td>4669357</td>\n",
       "      <td>403.951718</td>\n",
       "    </tr>\n",
       "    <tr>\n",
       "      <th>0.005</th>\n",
       "      <th>0.006</th>\n",
       "      <td>3669487</td>\n",
       "      <td>411.556814</td>\n",
       "    </tr>\n",
       "    <tr>\n",
       "      <th>0.007</th>\n",
       "      <th>0.006</th>\n",
       "      <td>13676162</td>\n",
       "      <td>116.915775</td>\n",
       "    </tr>\n",
       "    <tr>\n",
       "      <th>0.016</th>\n",
       "      <th>0.012</th>\n",
       "      <td>4169055</td>\n",
       "      <td>1248.086930</td>\n",
       "    </tr>\n",
       "  </tbody>\n",
       "</table>\n",
       "</div>"
      ],
      "text/plain": [
       "                               0     job_size\n",
       "ceiledcpu ceiledmemory                       \n",
       "0.001     0.006          3909590    79.133682\n",
       "0.002     0.002         15843234   247.765460\n",
       "          0.003          4564673   547.745443\n",
       "          0.006          8924386   113.980439\n",
       "0.003     0.002          3251734   539.416729\n",
       "          0.006          6231739   272.089997\n",
       "0.004     0.006          4669357   403.951718\n",
       "0.005     0.006          3669487   411.556814\n",
       "0.007     0.006         13676162   116.915775\n",
       "0.016     0.012          4169055  1248.086930"
      ]
     },
     "execution_count": 17,
     "metadata": {},
     "output_type": "execute_result"
    }
   ],
   "source": []
  },
  {
   "cell_type": "code",
   "execution_count": 3,
   "metadata": {},
   "outputs": [],
   "source": [
    "D = np.concatenate((np.array([stats[\"ceiledcpu\"]]).T, np.array([stats[\"ceiledmemory\"]]).T), axis=1)\n",
    "R = D.shape[1]\n",
    "C = np.ones(R)\n",
    "lmb = np.array(stats[\"lambda\"])"
   ]
  },
  {
   "cell_type": "code",
   "execution_count": 4,
   "metadata": {},
   "outputs": [
    {
     "name": "stdout",
     "output_type": "stream",
     "text": [
      "[[2.72042415e-01 1.23339968e-01 5.62025826e-03 1.31202669e-02\n",
      "  1.61362359e-01 1.09702210e-01 5.81412172e-02 2.56628728e-01\n",
      "  1.61145478e-05 2.64645591e-05]]\n",
      "[[ 22.   0.   0.  18.  23.   0.  40.   1.   0.  39.]\n",
      " [  2.  26.  10.   0.  24.  71.   1.   0.  49.  11.]\n",
      " [  0.  68.   0.   0.   0.  36.   0.   0. 108.   0.]\n",
      " [  0.   2.   0.   0.   0.   0. 166.   0.   0.   0.]\n",
      " [  0.   2.   0. 125.   0.   0.   0.   0.  41.   0.]\n",
      " [  1.   2.  88.   5.   0.   4.   2.  93.  17.   0.]\n",
      " [  0.   0.  38.   0.   2. 146.   0.   1.   0.   0.]\n",
      " [ 19. 161.   0.   0.   0.   0.   0.   0.  94.   0.]\n",
      " [  0.   0. 333.   0.   0.   0.   0.   0.   0.   0.]\n",
      " [166.   2.   0.   0.   0.   0.   0.   0.   0.   0.]]\n",
      "[[11.22165421 45.47466449 13.10192654 25.61556934  9.3334172  17.88689356\n",
      "  13.40240528 10.53248915 39.25454099 11.96639382]]\n",
      "[1. 1.] [[0.916 1.   ]\n",
      " [0.882 1.   ]\n",
      " [1.    1.   ]\n",
      " [0.668 1.   ]\n",
      " [0.541 1.   ]\n",
      " [0.795 1.   ]\n",
      " [0.525 1.   ]\n",
      " [0.999 1.   ]\n",
      " [0.666 0.999]\n",
      " [0.17  1.   ]]\n"
     ]
    }
   ],
   "source": [
    "from maxmin import get_candidates\n",
    "\n",
    "alpha, candidates = get_candidates(C, D, lmb)\n",
    "print(alpha)\n",
    "print(candidates)\n",
    "print(alpha @ candidates)\n",
    "print(C, candidates @ D)\n"
   ]
  },
  {
   "cell_type": "code",
   "execution_count": 6,
   "metadata": {},
   "outputs": [
    {
     "name": "stdout",
     "output_type": "stream",
     "text": [
      "Set parameter Username\n",
      "Set parameter LicenseID to value 2608571\n",
      "Academic license - for non-commercial use only - expires 2026-01-11\n",
      "Gurobi Optimizer version 12.0.0 build v12.0.0rc1 (linux64 - \"Red Hat Enterprise Linux 8.10 (Ootpa)\")\n",
      "\n",
      "CPU model: Intel(R) Xeon(R) Gold 5120 CPU @ 2.20GHz, instruction set [SSE2|AVX|AVX2|AVX512]\n",
      "Thread count: 28 physical cores, 56 logical processors, using up to 28 threads\n",
      "\n",
      "Optimize a model with 131 rows, 111 columns and 320 nonzeros\n",
      "Model fingerprint: 0xf5c3b5ff\n",
      "Model has 20 quadratic constraints\n",
      "Variable types: 11 continuous, 100 integer (0 binary)\n",
      "Coefficient statistics:\n",
      "  Matrix range     [1e-03, 1e+00]\n",
      "  QMatrix range    [1e+00, 1e+00]\n",
      "  QLMatrix range   [1e+00, 6e+00]\n",
      "  Objective range  [1e+00, 1e+00]\n",
      "  Bounds range     [0e+00, 0e+00]\n",
      "  RHS range        [1e+00, 1e+00]\n",
      "  QRHS range       [1e+00, 6e+00]\n",
      "Presolve added 0 rows and 10 columns\n",
      "Presolve removed 100 rows and 0 columns\n",
      "Presolve time: 0.00s\n",
      "Presolved: 241 rows, 222 columns, 740 nonzeros\n",
      "Presolved model has 100 bilinear constraint(s)\n",
      "\n",
      "Solving non-convex MIQCP\n",
      "\n",
      "Variable types: 122 continuous, 100 integer (0 binary)\n",
      "\n",
      "Root relaxation: objective 2.681516e+01, 181 iterations, 0.00 seconds (0.00 work units)\n",
      "\n",
      "    Nodes    |    Current Node    |     Objective Bounds      |     Work\n",
      " Expl Unexpl |  Obj  Depth IntInf | Incumbent    BestBd   Gap | It/Node Time\n",
      "\n",
      "     0     0   26.81516    0   62          -   26.81516      -     -    0s\n",
      "H    0     0                       1.8209079   26.81516  1373%     -    0s\n",
      "     0     0   26.81516    0   55    1.82091   26.81516  1373%     -    0s\n",
      "H    0     0                       2.7149558   26.81516   888%     -    0s\n",
      "H    0     0                       4.8911235   26.81516   448%     -    0s\n",
      "     0     0    6.68924    0   20    4.89112    6.68924  36.8%     -    0s\n",
      "     0     0    6.68924    0   22    4.89112    6.68924  36.8%     -    0s\n",
      "H    0     0                       5.2750920    6.68924  26.8%     -    0s\n",
      "H    0     0                       5.2830602    6.68924  26.6%     -    0s\n",
      "H    0     0                       5.2846169    6.68924  26.6%     -    0s\n",
      "     0     0    6.68924    0   22    5.28462    6.68924  26.6%     -    0s\n",
      "H    0     0                       5.3206769    6.68924  25.7%     -    0s\n",
      "H    0     0                       5.7050313    6.68924  17.3%     -    0s\n",
      "H    0     0                       5.8108578    6.68924  15.1%     -    0s\n",
      "H    0     0                       5.8341482    6.68924  14.7%     -    0s\n",
      "H    0     0                       5.8536746    6.68924  14.3%     -    0s\n",
      "H    0     0                       5.8633572    6.68924  14.1%     -    0s\n",
      "H    0     0                       6.0514529    6.68924  10.5%     -    0s\n",
      "H    0     0                       6.5275688    6.68924  2.48%     -    0s\n",
      "H    0     0                       6.5564786    6.68924  2.02%     -    0s\n",
      "H    0     0                       6.6078093    6.68924  1.23%     -    0s\n",
      "H    0     0                       6.6350555    6.68924  0.82%     -    0s\n",
      "     0     2    6.68924    0   22    6.63506    6.68924  0.82%     -    1s\n",
      "H   35    60                       6.6483099    6.68924  0.62%   6.2    1s\n",
      "H   45    60                       6.6704716    6.68924  0.28%   7.2    1s\n",
      "H  459  2020                       6.6740035    6.68924  0.23%   2.1    1s\n",
      "H  759  2020                       6.6750125    6.68924  0.21%   1.5    1s\n",
      "H 2193  3576                       6.6800789    6.68924  0.14%   1.5    2s\n",
      "H 2743  3576                       6.6844486    6.68924  0.07%   1.6    2s\n",
      "H 2839  3576                       6.6854222    6.68924  0.06%   1.6    2s\n",
      "  8947 10439    6.68924  325    9    6.68542    6.68924  0.06%   2.2    5s\n",
      "H10020 10437                       6.6858745    6.68924  0.05%   2.2    5s\n",
      "H14990 14733                       6.6858745    6.68924  0.05%   2.5    7s\n",
      " 15000 14740    6.68924  262    8    6.68587    6.68924  0.05%   2.5   10s\n",
      "H15040 14049                       6.6858746    6.68924  0.05%   2.6   11s\n",
      "H15048 13346                       6.6865331    6.68924  0.04%   2.6   11s\n",
      "H18721 16288                       6.6874202    6.68924  0.03%   3.0   12s\n",
      "H19608 15360                       6.6874526    6.68924  0.03%   3.2   12s\n",
      " 21219 16172    6.68924  116   19    6.68745    6.68924  0.03%   3.5   15s\n",
      " 26756 21095    6.68924  179   19    6.68745    6.68924  0.03%   4.5   20s\n",
      "*29729  9639             393       6.6892352    6.68924  0.00%   4.9   21s\n",
      "\n",
      "Cutting planes:\n",
      "  Gomory: 4\n",
      "  MIR: 12\n",
      "  RLT: 14\n",
      "\n",
      "Explored 30140 nodes (150068 simplex iterations) in 22.02 seconds (0.78 work units)\n",
      "Thread count was 28 (of 56 available processors)\n",
      "\n",
      "Solution count 10: 6.68924 6.68745 6.68742 ... 6.67501\n",
      "\n",
      "Optimal solution found (tolerance 1.00e-04)\n",
      "Warning: max constraint violation (5.3715e-06) exceeds tolerance\n",
      "Best objective 6.689235186411e+00, best bound 6.689235186411e+00, gap 0.0000%\n"
     ]
    }
   ],
   "source": [
    "alpha, candidates = get_candidates(C, D, lmb, verbose=True)"
   ]
  },
  {
   "cell_type": "code",
   "execution_count": 8,
   "metadata": {},
   "outputs": [
    {
     "data": {
      "text/plain": [
       "(array([1.45939797, 5.91406861, 1.70393174, 3.33135464, 1.21382907,\n",
       "        2.32622532, 1.74300889, 1.36977071, 5.10512945, 1.5562528 ]),\n",
       " array([[0.001, 0.006],\n",
       "        [0.002, 0.002],\n",
       "        [0.002, 0.003],\n",
       "        [0.002, 0.006],\n",
       "        [0.003, 0.002],\n",
       "        [0.003, 0.006],\n",
       "        [0.004, 0.006],\n",
       "        [0.005, 0.006],\n",
       "        [0.007, 0.006],\n",
       "        [0.016, 0.012]]))"
      ]
     },
     "execution_count": 8,
     "metadata": {},
     "output_type": "execute_result"
    }
   ],
   "source": [
    "lmb, D"
   ]
  }
 ],
 "metadata": {
  "kernelspec": {
   "display_name": "base",
   "language": "python",
   "name": "python3"
  },
  "language_info": {
   "codemirror_mode": {
    "name": "ipython",
    "version": 3
   },
   "file_extension": ".py",
   "mimetype": "text/x-python",
   "name": "python",
   "nbconvert_exporter": "python",
   "pygments_lexer": "ipython3",
   "version": "3.10.14"
  }
 },
 "nbformat": 4,
 "nbformat_minor": 2
}
